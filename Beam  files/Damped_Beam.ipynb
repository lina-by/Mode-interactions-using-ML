{
  "cells": [
    {
      "cell_type": "code",
      "execution_count": null,
      "metadata": {
        "id": "2iIirNNeLkgV"
      },
      "outputs": [],
      "source": [
        "from math import *\n",
        "import matplotlib.pyplot as plt\n",
        "import numpy as np\n",
        "from scipy.integrate import solve_ivp"
      ]
    },
    {
      "cell_type": "markdown",
      "metadata": {
        "id": "s0WJiuTo-b0S"
      },
      "source": [
        "## **Parameters**"
      ]
    },
    {
      "cell_type": "markdown",
      "metadata": {
        "id": "a7HHeG2Eyejk"
      },
      "source": [
        "**System parameters**"
      ]
    },
    {
      "cell_type": "code",
      "execution_count": null,
      "metadata": {
        "id": "p3W2cMShX6NQ"
      },
      "outputs": [],
      "source": [
        "w1 = 20*2*pi\n",
        "w2 = 30*2*pi\n",
        "w3 = 50*2*pi\n",
        "omega = np.diag([w1,w2,w3])\n",
        "omega2 = omega**2"
      ]
    },
    {
      "cell_type": "code",
      "execution_count": null,
      "metadata": {
        "id": "WAQ3l5GaYRSK"
      },
      "outputs": [],
      "source": [
        "PHI=np.array([[0.125, 1.35, 5.13, 5.34],\n",
        "             [-0.575, -3.86, 3.80, 4.67],\n",
        "             [1.330, 3.21, 2.86, 4.41]])\n",
        "PHI_nl=PHI[:,3]\n",
        "PHI=PHI[:,:3]"
      ]
    },
    {
      "cell_type": "markdown",
      "metadata": {
        "id": "jvjIj9xwKpeT"
      },
      "source": [
        "Nonlinearity"
      ]
    },
    {
      "cell_type": "code",
      "execution_count": null,
      "metadata": {
        "id": "_2TniVKedM7N"
      },
      "outputs": [],
      "source": [
        "a_nl = 10\n",
        "f_nl = lambda x : a_nl*x**3\n",
        "f_nl = np.vectorize(f_nl)"
      ]
    },
    {
      "cell_type": "markdown",
      "metadata": {
        "id": "pfLmTvbJD74S"
      },
      "source": [
        "Damping\n",
        "$\\delta=2*damping.ratio*\\omega$"
      ]
    },
    {
      "cell_type": "code",
      "execution_count": null,
      "metadata": {
        "id": "8bCL4_1SDu4D"
      },
      "outputs": [],
      "source": [
        "dampingcoeff= 0.01\n",
        "delta = 2*dampingcoeff*omega"
      ]
    },
    {
      "cell_type": "markdown",
      "metadata": {
        "id": "nv9IZaAAKuaj"
      },
      "source": [
        "Initial conditions"
      ]
    },
    {
      "cell_type": "code",
      "execution_count": null,
      "metadata": {
        "id": "RQtINR30fe9E"
      },
      "outputs": [],
      "source": [
        "Q0=np.array([[0,0],\n",
        "            [0,0],\n",
        "            [0,0]])\n",
        "X0=np.matmul(PHI,Q0)"
      ]
    },
    {
      "cell_type": "markdown",
      "metadata": {
        "id": "5aUZ8c20Kr6l"
      },
      "source": [
        "Excitation, Graphs & Simulation"
      ]
    },
    {
      "cell_type": "code",
      "execution_count": null,
      "metadata": {
        "id": "hEIFOiZMhoiR"
      },
      "outputs": [],
      "source": [
        "Tsimul = 100\n",
        "f0=10\n",
        "fend=70\n",
        "v=(fend-f0)/Tsimul\n",
        "F=10000\n",
        "Pq = F*PHI[:,0]\n",
        "excitation = lambda t:  Pq*cos(2*pi*(f0+v/2*t)*t)"
      ]
    },
    {
      "cell_type": "code",
      "execution_count": null,
      "metadata": {
        "id": "3AdR3E7jLSER"
      },
      "outputs": [],
      "source": [
        "fs=10*fend\n",
        "Npoint = Tsimul*fs\n",
        "FREQ=np.linspace(f0,fend, Npoint+1)"
      ]
    },
    {
      "cell_type": "code",
      "execution_count": null,
      "metadata": {
        "colab": {
          "base_uri": "https://localhost:8080/"
        },
        "id": "uCxUcXDVCYLm",
        "outputId": "d917515e-6160-4f92-a973-f186bb153969"
      },
      "outputs": [
        {
          "data": {
            "text/plain": [
              "700"
            ]
          },
          "execution_count": 34,
          "metadata": {},
          "output_type": "execute_result"
        }
      ],
      "source": [
        "fs"
      ]
    },
    {
      "cell_type": "markdown",
      "metadata": {
        "id": "v0orXrbS3Kud"
      },
      "source": [
        "# **Beam equations**\n"
      ]
    },
    {
      "cell_type": "markdown",
      "metadata": {
        "id": "l6IG7K7tZS2B"
      },
      "source": [
        "$\\ddot{q}+\\omega^{2}q+\\Phi^{T}f_{nl}(\\Phi_{tip}q) + \\delta \\dot{q} = excitation(t)$\\    \n",
        "$x=\\Phi q$"
      ]
    },
    {
      "cell_type": "code",
      "execution_count": null,
      "metadata": {
        "id": "7Fqi-PsXgtSi"
      },
      "outputs": [],
      "source": [
        "def qres(Q,t):\n",
        "  q=Q[:,0]\n",
        "  driv=Q[:,1]\n",
        "  fnl=np.matmul(PHI_nl,q)\n",
        "  fnl=np.array([f_nl(fnl)]*3)\n",
        "  #print(fnl)\n",
        "  ddriv = -np.matmul(omega2,q) -np.matmul(PHI.T,fnl)+excitation(t)-np.matmul(delta,driv)\n",
        "  dQ=np.zeros((3,2))\n",
        "  dQ[:,0]=driv\n",
        "  dQ[:,1]=ddriv\n",
        "  return dQ"
      ]
    },
    {
      "cell_type": "markdown",
      "metadata": {
        "id": "dGZimJX0AXvQ"
      },
      "source": [
        "#**Solve ODE** Runge Kutta"
      ]
    },
    {
      "cell_type": "code",
      "execution_count": null,
      "metadata": {
        "id": "9GE6Iz3cWMRj"
      },
      "outputs": [],
      "source": [
        "def rk4(f,t0,x0,tn,n):\n",
        "    # Calculating step size\n",
        "    h = (tn-t0)/n\n",
        "    X=[x0]\n",
        "    for i in range(n):\n",
        "        k1 = np.multiply(h,(f(t0, x0)))\n",
        "        k2 = np.multiply(h, (f((t0+h/2), (x0+k1/2))))\n",
        "        k3 = np.multiply(h, (f((t0+h/2), (x0+k2/2))))\n",
        "        k4 = np.multiply(h, (f((t0+h), (x0+k3))))\n",
        "        k = (k1+2*k2+2*k3+k4)/6\n",
        "        xn = x0 + k\n",
        "        \n",
        "        x0 = xn\n",
        "        t0 = t0+h\n",
        "        X.append(xn)\n",
        "    \n",
        "    return X\n",
        "\n"
      ]
    },
    {
      "cell_type": "markdown",
      "metadata": {
        "id": "yrwUASuq-f-1"
      },
      "source": [
        "# **Graphiques**"
      ]
    },
    {
      "cell_type": "code",
      "execution_count": null,
      "metadata": {
        "id": "0ZXlBSWPX3y7"
      },
      "outputs": [],
      "source": [
        "def create_signal(tfin,Npoint):\n",
        "  T = np.linspace(0,tfin,Npoint+1)\n",
        "  f = lambda t, Q : qres(Q, t)\n",
        "  Q=rk4(f,0,Q0,tfin,Npoint)\n",
        "  X=np.matmul(PHI,Q)\n",
        "  return (T,X,Q)\n",
        "\n"
      ]
    },
    {
      "cell_type": "code",
      "execution_count": null,
      "metadata": {
        "id": "LVdgaSAgX8gw"
      },
      "outputs": [],
      "source": [
        "(T,X,Q)=create_signal(Tsimul,Npoint)\n",
        "X1=(np.array(X).T)[0,0]\n",
        "X2=(np.array(X).T)[0,1]\n",
        "X3=(np.array(X).T)[0,2]\n",
        "\n",
        "Q1=(np.array(Q).T)[0,0]\n",
        "Q2=(np.array(Q).T)[0,1]\n",
        "Q3=(np.array(Q).T)[0,2]\n"
      ]
    },
    {
      "cell_type": "code",
      "execution_count": null,
      "metadata": {
        "colab": {
          "base_uri": "https://localhost:8080/",
          "height": 311
        },
        "id": "Kb4cb7qg0bkF",
        "outputId": "2abd0594-8e3e-4220-988f-674f83ca50bf"
      },
      "outputs": [
        {
          "data": {
            "text/plain": [
              "Text(0.5, 0.98, 'Q=f(freq)')"
            ]
          },
          "execution_count": 72,
          "metadata": {},
          "output_type": "execute_result"
        },
        {
          "data": {
            "image/png": "[encoded data removed]",
            "text/plain": [
              "<Figure size 432x288 with 3 Axes>"
            ]
          },
          "metadata": {
            "needs_background": "light"
          },
          "output_type": "display_data"
        }
      ],
      "source": [
        "fig,ax=plt.subplots(3)\n",
        "ax[0].plot(FREQ,Q1)\n",
        "ax[1].plot(FREQ,Q2)\n",
        "ax[2].plot(FREQ,Q3)\n",
        "ax[0].set_title('Q1')\n",
        "ax[1].set_title('Q2')\n",
        "ax[2].set_title('Q3')\n",
        "fig.suptitle('Q=f(freq)', fontsize=16)"
      ]
    },
    {
      "cell_type": "code",
      "execution_count": null,
      "metadata": {
        "colab": {
          "base_uri": "https://localhost:8080/",
          "height": 311
        },
        "id": "Zgr0FGkD8hzK",
        "outputId": "39c0b19a-cc2e-45ef-fe17-a5d9408038c8"
      },
      "outputs": [
        {
          "data": {
            "text/plain": [
              "Text(0.5, 0.98, 'X=f(freq)')"
            ]
          },
          "execution_count": 73,
          "metadata": {},
          "output_type": "execute_result"
        },
        {
          "data": {
            "image/png": "[encoded data removed]",
            "text/plain": [
              "<Figure size 432x288 with 3 Axes>"
            ]
          },
          "metadata": {
            "needs_background": "light"
          },
          "output_type": "display_data"
        }
      ],
      "source": [
        "fig,ax=plt.subplots(3)\n",
        "ax[0].plot(FREQ,X1)\n",
        "ax[1].plot(FREQ,X2)\n",
        "ax[2].plot(FREQ,X3)\n",
        "ax[0].set_title('X1')\n",
        "ax[1].set_title('X2')\n",
        "ax[2].set_title('X3')\n",
        "fig.suptitle('X=f(freq)', fontsize=16)"
      ]
    },
    {
      "cell_type": "code",
      "execution_count": null,
      "metadata": {
        "colab": {
          "base_uri": "https://localhost:8080/",
          "height": 282
        },
        "id": "e9xRUnNuOyVU",
        "outputId": "b8d3a47f-f415-4f6a-e098-63686633832b"
      },
      "outputs": [
        {
          "data": {
            "text/plain": [
              "[<matplotlib.lines.Line2D at 0x7f864ae3c790>]"
            ]
          },
          "execution_count": 74,
          "metadata": {},
          "output_type": "execute_result"
        },
        {
          "data": {
            "image/png": "[encoded data removed]",
            "text/plain": [
              "<Figure size 432x288 with 1 Axes>"
            ]
          },
          "metadata": {
            "needs_background": "light"
          },
          "output_type": "display_data"
        }
      ],
      "source": [
        "X_nl=np.matmul(PHI_nl,Q)[:,0]\n",
        "plt.plot(FREQ,X_nl)"
      ]
    },
    {
      "cell_type": "code",
      "execution_count": null,
      "metadata": {
        "colab": {
          "base_uri": "https://localhost:8080/",
          "height": 17
        },
        "id": "vRRtozO5QWmr",
        "outputId": "bfeb81c4-894f-4677-b24d-1e558852acb0"
      },
      "outputs": [
        {
          "data": {
            "application/javascript": "\n    async function download(id, filename, size) {\n      if (!google.colab.kernel.accessAllowed) {\n        return;\n      }\n      const div = document.createElement('div');\n      const label = document.createElement('label');\n      label.textContent = `Downloading \"${filename}\": `;\n      div.appendChild(label);\n      const progress = document.createElement('progress');\n      progress.max = size;\n      div.appendChild(progress);\n      document.body.appendChild(div);\n\n      const buffers = [];\n      let downloaded = 0;\n\n      const channel = await google.colab.kernel.comms.open(id);\n      // Send a message to notify the kernel that we're ready.\n      channel.send({})\n\n      for await (const message of channel.messages) {\n        // Send a message to notify the kernel that we're ready.\n        channel.send({})\n        if (message.buffers) {\n          for (const buffer of message.buffers) {\n            buffers.push(buffer);\n            downloaded += buffer.byteLength;\n            progress.value = downloaded;\n          }\n        }\n      }\n      const blob = new Blob(buffers, {type: 'application/binary'});\n      const a = document.createElement('a');\n      a.href = window.URL.createObjectURL(blob);\n      a.download = filename;\n      div.appendChild(a);\n      a.click();\n      div.remove();\n    }\n  ",
            "text/plain": [
              "<IPython.core.display.Javascript object>"
            ]
          },
          "metadata": {},
          "output_type": "display_data"
        },
        {
          "data": {
            "application/javascript": "download(\"download_30634eef-9490-4737-b849-b13c85b9b031\", \"beam.csv\", 1360131)",
            "text/plain": [
              "<IPython.core.display.Javascript object>"
            ]
          },
          "metadata": {},
          "output_type": "display_data"
        }
      ],
      "source": [
        "from google.colab import files\n",
        "X3.tofile('beam.csv', sep = ',')\n",
        "files.download('beam.csv')"
      ]
    },
    {
      "cell_type": "markdown",
      "metadata": {
        "id": "eQiRsUxIOKVE"
      },
      "source": [
        "# **Wavelet transform**"
      ]
    },
    {
      "cell_type": "code",
      "execution_count": null,
      "metadata": {
        "id": "mttT5MidNRFV"
      },
      "outputs": [],
      "source": [
        "import pywt"
      ]
    },
    {
      "cell_type": "code",
      "execution_count": null,
      "metadata": {
        "id": "QIXimdn1Nkae"
      },
      "outputs": [],
      "source": [
        "''' Choosing scales '''\n",
        "desiredfreq = np.linspace(f0,fend,100)\n",
        "\n",
        "scale=lambda f : 0.8125*fs/f\n",
        "SCALE = np.vectorize(scale)\n",
        "sampling_period = 1/fs\n",
        "scales=SCALE(desiredfreq)\n",
        "\n",
        "'''' Other pararmeters '''\n",
        "wavelet=\"morl\"\n",
        "sampling_period = 1/fs\n",
        "ABS=np.vectorize(abs)"
      ]
    }
  ],
  "metadata": {
    "colab": {
      "provenance": []
    },
    "kernelspec": {
      "display_name": "Python 3",
      "name": "python3"
    },
    "language_info": {
      "name": "python"
    }
  },
  "nbformat": 4,
  "nbformat_minor": 0
}
