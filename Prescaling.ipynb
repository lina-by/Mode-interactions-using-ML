{
  "cells": [
    {
      "cell_type": "code",
      "execution_count": 8,
      "metadata": {
        "id": "CTsH_oi7CH6u"
      },
      "outputs": [],
      "source": [
        "import numpy as np\n",
        "import matplotlib.pyplot as plt\n",
        "from matplotlib import ticker\n",
        "from  matplotlib.colors import LogNorm\n",
        "from math import *\n",
        "from scipy.interpolate import interp1d"
      ]
    },
    {
      "cell_type": "code",
      "execution_count": 9,
      "metadata": {},
      "outputs": [],
      "source": [
        "f0 = 14 # initial frequency (Hz)\n",
        "fend = 20 # final frequency (Hz)\n",
        "fs = 995.6333 # sampling frequency"
      ]
    },
    {
      "cell_type": "code",
      "execution_count": 11,
      "metadata": {},
      "outputs": [],
      "source": [
        "def scale(beamwt,fresp,f0,fend,fs):\n",
        "    Npoint=len(beamwt[0])\n",
        "    t=1/fs\n",
        "    Tsimul=(Npoint-1)*t\n",
        "    t=1/fs\n",
        "    exc_finst = np.linspace(f0, fend, Npoint) # instantaneous excitation frequency\n",
        "    T=np.linspace(0,Tsimul,Npoint)\n",
        "\n",
        "    fnorm = np.linspace(0, 10, 200) # Vector of frequency ratios\n",
        "    wt_amp_scaled = np.zeros((len(fnorm),Npoint))\n",
        "    for i in range(Npoint):\n",
        "        fscaled = (fresp/exc_finst[i]).reshape(len(beamwt))\n",
        "        scaling = interp1d(fscaled, beamwt[:,i], kind='linear', bounds_error=False, fill_value=np.percentile(beamwt[:,i], 25))\n",
        "        wt_amp_scaled[:,i]=scaling(fnorm)\n",
        "\n",
        "    wt_amp_scaled3 = np.zeros(np.shape(wt_amp_scaled))\n",
        "    for i in range(Npoint):\n",
        "        norm=np.sum(wt_amp_scaled[17:28,i])/5\n",
        "        wt_amp_scaled3[:,i] = wt_amp_scaled[:,i] / norm\n",
        "    return wt_amp_scaled3\n",
        "    \n"
      ]
    },
    {
      "cell_type": "code",
      "execution_count": 20,
      "metadata": {},
      "outputs": [],
      "source": [
        "scaled_wt=[]\n",
        "for i in range(1,12):\n",
        "    title = 'exp-'+str(i)+'.csv'\n",
        "    #beamwt = np.genfromtxt('cwt-'+title, delimiter=\",\", dtype=float)\n",
        "    #fresp = np.genfromtxt('freq-'+title, delimiter=\",\", dtype=float)\n",
        "    #wt_amp_scaled3=scale(beamwt,fresp,f0,fend,fs)\n",
        "    #wt_amp_scaled3.tofile('scaled-'+title,sep=',')\n",
        "    scaled_wt.append(np.genfromtxt('scaled-'+title, delimiter=\",\", dtype=float))\n"
      ]
    },
    {
      "cell_type": "code",
      "execution_count": 15,
      "metadata": {},
      "outputs": [],
      "source": [
        "def norm(scaledwt,i):\n",
        "  l=[]\n",
        "  l2=[]\n",
        "  Npoint=len(scaledwt[0])\n",
        "  for j in range(Npoint):\n",
        "    norm1=np.sum(scaledwt[15:26,j])\n",
        "    normi=np.sum(scaledwt[20*i-5:20*i+6,j])\n",
        "    l2.append(normi/norm1)\n",
        "    if norm1<normi:\n",
        "      3\n",
        "      l.append(i)\n",
        "    else:\n",
        "      l.append(1)\n",
        "  l=np.array(l)\n",
        "  l2=np.array(l2)\n",
        "  return l,l2"
      ]
    },
    {
      "cell_type": "code",
      "execution_count": 16,
      "metadata": {},
      "outputs": [],
      "source": [
        "def rapport(scaledwt):\n",
        "    for i in range(2,6):\n",
        "        l,l2=norm(scaledwt,i)\n",
        "        plt.plot(T,l2, label='N'+str(i)+'/N1')\n",
        "    plt.legend()"
      ]
    },
    {
      "cell_type": "code",
      "execution_count": null,
      "metadata": {},
      "outputs": [
        {
          "ename": "IndexError",
          "evalue": "list index out of range",
          "output_type": "error",
          "traceback": [
            "\u001b[1;31m---------------------------------------------------------------------------\u001b[0m",
            "\u001b[1;31mIndexError\u001b[0m                                Traceback (most recent call last)",
            "Cell \u001b[1;32mIn[18], line 2\u001b[0m\n\u001b[0;32m      1\u001b[0m \u001b[39mfor\u001b[39;00m i \u001b[39min\u001b[39;00m \u001b[39mrange\u001b[39m(\u001b[39m2\u001b[39m,\u001b[39m12\u001b[39m):\n\u001b[1;32m----> 2\u001b[0m     rapport(scaled_wt[i])\n",
            "\u001b[1;31mIndexError\u001b[0m: list index out of range"
          ]
        }
      ],
      "source": [
        "for i in range(2,12):\n",
        "    rapport(scaled_wt[i])\n",
        "    plt.schow()\n",
        "    plt.cla()"
      ]
    }
  ],
  "metadata": {
    "colab": {
      "provenance": []
    },
    "kernelspec": {
      "display_name": "Python 3",
      "language": "python",
      "name": "python3"
    },
    "language_info": {
      "codemirror_mode": {
        "name": "ipython",
        "version": 3
      },
      "file_extension": ".py",
      "mimetype": "text/x-python",
      "name": "python",
      "nbconvert_exporter": "python",
      "pygments_lexer": "ipython3",
      "version": "3.11.2"
    },
    "vscode": {
      "interpreter": {
        "hash": "85490b93cde222245d10d1b55dd1d28182449d337cfcfa52ed42267b78d794c4"
      }
    }
  },
  "nbformat": 4,
  "nbformat_minor": 0
}
