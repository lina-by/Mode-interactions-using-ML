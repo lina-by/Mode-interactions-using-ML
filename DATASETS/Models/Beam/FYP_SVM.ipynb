{
  "cells": [
    {
      "cell_type": "code",
      "execution_count": 82,
      "metadata": {
        "id": "XAZRLRXwiFHZ"
      },
      "outputs": [],
      "source": [
        "from sklearn.svm import SVC\n",
        "import numpy as np\n",
        "import matplotlib.pyplot as plt"
      ]
    },
    {
      "cell_type": "markdown",
      "metadata": {
        "id": "FHMpmdV7rJRk"
      },
      "source": [
        "# FORMATTING THE DATA"
      ]
    },
    {
      "cell_type": "code",
      "execution_count": 83,
      "metadata": {},
      "outputs": [],
      "source": [
        "l0 = np.genfromtxt(\"l0.csv\", delimiter=\",\", dtype=float)\n",
        "l3 = np.genfromtxt(\"l3.csv\", delimiter=\",\", dtype=float)"
      ]
    },
    {
      "cell_type": "code",
      "execution_count": 84,
      "metadata": {},
      "outputs": [],
      "source": [
        "ln=len(l0)\n",
        "for i in range(ln):\n",
        "    if l0[ln-1-i]>19465*0.95 or l0[ln-1-i]<19465*0.05:\n",
        "        l0 = np.delete(l0, ln-1-i)\n",
        "\n",
        "ln=len(l3)\n",
        "for i in range(ln):\n",
        "    if l3[ln-1-i]>19465*0.95 or l3[ln-1-i]<19465*0.05:\n",
        "        l3 = np.delete(l3, ln-1-i)"
      ]
    },
    {
      "cell_type": "code",
      "execution_count": 85,
      "metadata": {
        "id": "Z5wyvJ0FrSYt"
      },
      "outputs": [],
      "source": [
        "inter0=[] # dataset of vectors without interaction\n",
        "inter1=[] # dataset of vectors with interaction\n",
        "\n",
        "dataset1={}\n",
        "dataset1['vectors']= np.genfromtxt(\"scaled-1_3-.csv\", delimiter=\",\", dtype=float).reshape((200, 19465))\n",
        "dataset1['bounds0']=l0\n",
        "dataset1['bounds1']=l3\n",
        "\n",
        "datasets=[dataset1]"
      ]
    },
    {
      "cell_type": "code",
      "execution_count": 86,
      "metadata": {
        "id": "VG3pCBwAsuXt"
      },
      "outputs": [],
      "source": [
        "def createdataset(datasets):\n",
        "  inter0=[] # dataset of vectors without interaction\n",
        "  inter1=[] # dataset of vectors with interaction\n",
        "  for dataset in datasets:\n",
        "    vectors = dataset['vectors']\n",
        "    id0=dataset['bounds0']\n",
        "    id1=dataset['bounds1']\n",
        "    for x in id0:\n",
        "      inter0.append(vectors[:,int(x)])\n",
        "    for x in id1:\n",
        "      inter1.append(vectors[:,int(x)])\n",
        "  X=np.array(inter0+inter1)\n",
        "  y=np.array([0]*len(inter0)+[1]*len(inter1))\n",
        "  return X, y"
      ]
    },
    {
      "cell_type": "code",
      "execution_count": 87,
      "metadata": {},
      "outputs": [],
      "source": [
        "X, y =createdataset(datasets)"
      ]
    },
    {
      "attachments": {},
      "cell_type": "markdown",
      "metadata": {},
      "source": [
        "# TRAINING"
      ]
    },
    {
      "cell_type": "code",
      "execution_count": 88,
      "metadata": {
        "id": "nNAzgUOCiQ2b"
      },
      "outputs": [],
      "source": [
        "#Get your SVM set up using the SVC library. \n",
        "svm = SVC(C=1000, gamma='auto', kernel='poly', degree=2)"
      ]
    },
    {
      "cell_type": "markdown",
      "metadata": {
        "id": "tkHhsv30iaGD"
      },
      "source": [
        "# K-FOLD CROSSVALIDATION"
      ]
    },
    {
      "cell_type": "code",
      "execution_count": 89,
      "metadata": {
        "id": "ucg3iUeCixOz"
      },
      "outputs": [],
      "source": [
        "from sklearn.model_selection import KFold\n",
        "k=5\n",
        "kf = KFold(n_splits=k, shuffle=True)"
      ]
    },
    {
      "cell_type": "code",
      "execution_count": 90,
      "metadata": {
        "id": "EXR3e0N8i1XE"
      },
      "outputs": [
        {
          "name": "stdout",
          "output_type": "stream",
          "text": [
            "Correct percentage for test data:  99.75452873401403\n",
            "Correct percentage for training data:  99.75881903123124\n"
          ]
        }
      ],
      "source": [
        "tot_correct_fraction_test = 0\n",
        "tot_correct_fraction_train = 0\n",
        "for train_index, test_index in kf.split(X):\n",
        "  # creating training and testing datasets\n",
        "\tX_train = X[train_index]\n",
        "\ty_train = y[train_index]\n",
        "\tX_test = X[test_index]\n",
        "\ty_test = y[test_index]\n",
        "\n",
        "  # fit the training dataset\n",
        "\tsvm.fit(X_train,y_train)\n",
        "\n",
        "\t#use svm.predict() to predict the output for the test data set\n",
        "\ty_test_model = svm.predict(X_test)\n",
        " \n",
        "\t#loop through to compare the test data output to what it should be and obtain the fraction of correct classifications\n",
        "\tnTot = len(y_test) \n",
        "\tnMatch = 0 \n",
        "\tfor i in range(len(y_test)):\n",
        "\t\tif y_test[i] == y_test_model[i]:\n",
        "\t\t\tnMatch += 1\n",
        "\n",
        "\tcorrect_fraction_test = nMatch / nTot\n",
        "\n",
        "\t#do the same prediction and performance assessment performance with the training data\n",
        "\ty_train_model = svm.predict(X_train)\n",
        "\n",
        "\tnTot = len(y_train) \n",
        "\tnMatch = 0\n",
        "\tfor i in range(len(y_train)):\n",
        "\t\tif y_train[i] == y_train_model[i]:\n",
        "\t\t\tnMatch += 1\n",
        "\n",
        "\tcorrect_fraction_train = nMatch / nTot\n",
        "\n",
        "\t#add on to the totals\n",
        "\ttot_correct_fraction_test += correct_fraction_test\n",
        "\ttot_correct_fraction_train += correct_fraction_train\n",
        "\n",
        "print('Correct percentage for test data: ', 100*tot_correct_fraction_test/5)\n",
        "print('Correct percentage for training data: ', 100*tot_correct_fraction_train/5)"
      ]
    },
    {
      "cell_type": "code",
      "execution_count": 91,
      "metadata": {},
      "outputs": [
        {
          "data": {
            "text/plain": [
              "[<matplotlib.lines.Line2D at 0x2831b95ee30>,\n",
              " <matplotlib.lines.Line2D at 0x2831b95ee90>]"
            ]
          },
          "execution_count": 91,
          "metadata": {},
          "output_type": "execute_result"
        },
        {
          "data": {
            "image/png": "[encoded data removed]",
            "text/plain": [
              "<Figure size 640x480 with 1 Axes>"
            ]
          },
          "metadata": {},
          "output_type": "display_data"
        }
      ],
      "source": [
        "svm.probability=True\n",
        "svm.fit(X,y)\n",
        "prob = svm.predict_proba(X)\n",
        "plt.plot(prob)"
      ]
    }
  ],
  "metadata": {
    "colab": {
      "provenance": []
    },
    "kernelspec": {
      "display_name": "Python 3",
      "language": "python",
      "name": "python3"
    },
    "language_info": {
      "codemirror_mode": {
        "name": "ipython",
        "version": 3
      },
      "file_extension": ".py",
      "mimetype": "text/x-python",
      "name": "python",
      "nbconvert_exporter": "python",
      "pygments_lexer": "ipython3",
      "version": "3.10.10"
    },
    "vscode": {
      "interpreter": {
        "hash": "85490b93cde222245d10d1b55dd1d28182449d337cfcfa52ed42267b78d794c4"
      }
    }
  },
  "nbformat": 4,
  "nbformat_minor": 0
}
